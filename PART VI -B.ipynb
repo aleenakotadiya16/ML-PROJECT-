{
 "cells": [
  {
   "cell_type": "markdown",
   "id": "341ad638-8a20-4b3a-9ac1-04a932fc96ac",
   "metadata": {},
   "source": [
    "## Import Python Libraries and Modules"
   ]
  },
  {
   "cell_type": "code",
   "execution_count": 27,
   "id": "ebf67018-04ae-4e5e-9696-bb4ec8d21f81",
   "metadata": {},
   "outputs": [],
   "source": [
    "#Import python libraries and modules\n",
    "import pandas as pd\n",
    "import numpy as np\n",
    "\n",
    "#Import libraries and modules for vizualization\n",
    "from pandas.plotting import scatter_matrix\n",
    "from matplotlib import pyplot\n",
    "\n",
    "#import scit-learn module to split the dataset into train-test sub-datasets\n",
    "from sklearn.model_selection import train_test_split\n",
    "\n",
    "#Import scit-learn module for algorithm/module : linear Regression\n",
    "from sklearn.linear_model import LogisticRegression\n",
    "from sklearn.neighbors import KNeighborsClassifier\n",
    "\n",
    "#Import scit-learn module for K-fold cross validation -algorithm/module evaluation and validation\n",
    "from sklearn.model_selection import KFold\n",
    "from sklearn.model_selection import cross_val_score\n",
    "\n",
    "#Import scit-learn module for classification report\n",
    "from sklearn.metrics import classification_report"
   ]
  },
  {
   "cell_type": "markdown",
   "id": "44bd3dd5-6a44-4133-a469-f7acc592429b",
   "metadata": {},
   "source": [
    "## 1. Load Dataset"
   ]
  },
  {
   "cell_type": "code",
   "execution_count": 7,
   "id": "94ee79ba-7e07-4c68-b9f9-6b140d58a84e",
   "metadata": {},
   "outputs": [],
   "source": [
    "#Specify what and where is the data file\n",
    "filename = \"C:/Users/Aleena/Desktop/UNT/big data/FINAL PROJECT/weather_forecast_data (1).csv\"\n",
    "\n",
    "#Load the data into a Pandas Dataframe\n",
    "df=pd.read_csv(filename)\n"
   ]
  },
  {
   "cell_type": "markdown",
   "id": "48ac55bb-721e-4d54-82a7-b3b71d564399",
   "metadata": {},
   "source": [
    "## 2. Preprocess Dataset"
   ]
  },
  {
   "cell_type": "code",
   "execution_count": 10,
   "id": "2a80288b-75e6-4e32-bf74-b47b5c1e53be",
   "metadata": {},
   "outputs": [
    {
     "name": "stdout",
     "output_type": "stream",
     "text": [
      "Temperature    0\n",
      "Humidity       0\n",
      "Wind_Speed     0\n",
      "Cloud_Cover    0\n",
      "Pressure       0\n",
      "Rain           0\n",
      "dtype: int64\n"
     ]
    }
   ],
   "source": [
    "#Count the number of NaN values in each column\n",
    "print(df.isnull().sum())"
   ]
  },
  {
   "cell_type": "markdown",
   "id": "6fafb497-827e-4521-a43e-f8e2ed0d5b03",
   "metadata": {},
   "source": [
    "## 4 Seprate Dataset into Input and Output Arrays"
   ]
  },
  {
   "cell_type": "code",
   "execution_count": 49,
   "id": "d5572c64-f4fc-47d6-bc1c-3698ffaf9e87",
   "metadata": {},
   "outputs": [],
   "source": [
    "#Store dataframe values into a munpy array\n",
    "array = df.values\n",
    "\n",
    "#separate array into input and output components by slicing \n",
    "#For X(input)[:,1:5]-->all the rows,columns from 1-4 (5-1)\n",
    "X=array[:,0:5]\n",
    "#For Y(input)[:,5] ---> all the rows,column 5\n",
    "Y=array[:,5]"
   ]
  },
  {
   "cell_type": "code",
   "execution_count": 51,
   "id": "7971de15-3a41-474a-a089-645bae306bf6",
   "metadata": {},
   "outputs": [],
   "source": [
    "## 5 Split Input/Output Arrays into Training/Testing Datasets"
   ]
  },
  {
   "cell_type": "code",
   "execution_count": 53,
   "id": "8cccce4e-c952-4b4d-826a-8840ba88d1d6",
   "metadata": {},
   "outputs": [],
   "source": [
    "#Split the dataset --> training sub-dataset: 67%;test sub-dataset:33%\n",
    "test_size =0.33\n",
    "#Selection of records to include in which sub-dataset must be done randomly \n",
    "#Use this seed for randomization \n",
    "seed=7\n",
    "#Split the dataset (both input and output) into training/testing datasets\n",
    "X_train,X_test,Y_train,Y_test=train_test_split(X,Y,test_size = test_size,random_state=seed)"
   ]
  },
  {
   "cell_type": "code",
   "execution_count": 55,
   "id": "035b2023-9442-4175-9668-eb5b323e5a7c",
   "metadata": {},
   "outputs": [],
   "source": [
    "## 6 Build and Train the Model"
   ]
  },
  {
   "cell_type": "code",
   "execution_count": 57,
   "id": "57d04bed-03e4-47a3-a68f-237aefb0a449",
   "metadata": {},
   "outputs": [
    {
     "name": "stdout",
     "output_type": "stream",
     "text": [
      "              precision    recall  f1-score   support\n",
      "\n",
      "     no rain       0.95      0.96      0.96       721\n",
      "        rain       0.72      0.65      0.69       104\n",
      "\n",
      "    accuracy                           0.92       825\n",
      "   macro avg       0.84      0.81      0.82       825\n",
      "weighted avg       0.92      0.92      0.92       825\n",
      "\n"
     ]
    }
   ],
   "source": [
    "# Build the model\n",
    "model = LogisticRegression()\n",
    "\n",
    "#Train the model using the taining sub-dataset\n",
    "model.fit(X_train,Y_train)\n",
    "\n",
    "#Print the classification report\n",
    "predicted = model.predict(X_test)\n",
    "report = classification_report(Y_test,predicted)\n",
    "print(report)"
   ]
  },
  {
   "cell_type": "code",
   "execution_count": 59,
   "id": "2c79f9ef-2643-4b74-baf0-90e7eaaac2b9",
   "metadata": {},
   "outputs": [
    {
     "name": "stdout",
     "output_type": "stream",
     "text": [
      "              precision    recall  f1-score   support\n",
      "\n",
      "     no rain       0.95      0.99      0.97       721\n",
      "        rain       0.92      0.64      0.76       104\n",
      "\n",
      "    accuracy                           0.95       825\n",
      "   macro avg       0.93      0.82      0.86       825\n",
      "weighted avg       0.95      0.95      0.94       825\n",
      "\n"
     ]
    }
   ],
   "source": [
    "# Build the model\n",
    "model_knn = KNeighborsClassifier(n_neighbors=2)\n",
    "\n",
    "#Train the model using the taining sub-dataset\n",
    "model_knn.fit(X_train,Y_train)\n",
    "\n",
    "#Print the classification report\n",
    "predicted = model_knn.predict(X_test)\n",
    "report = classification_report(Y_test,predicted)\n",
    "print(report)"
   ]
  },
  {
   "cell_type": "code",
   "execution_count": 61,
   "id": "99e97d39-b621-454d-8cee-631d8fafe69e",
   "metadata": {},
   "outputs": [],
   "source": [
    "## 7 Find Accuracy Level"
   ]
  },
  {
   "cell_type": "code",
   "execution_count": 63,
   "id": "b59f4857-0a1f-4b62-9224-5f0e47698396",
   "metadata": {},
   "outputs": [
    {
     "name": "stdout",
     "output_type": "stream",
     "text": [
      "Accuracy:92.485%\n"
     ]
    }
   ],
   "source": [
    "#Score the accuracy level\n",
    "result=model.score(X_test,Y_test)\n",
    "\n",
    "\n",
    "#Print out the results\n",
    "print((\"Accuracy:%.3f%%\")%(result*100.0))"
   ]
  },
  {
   "cell_type": "code",
   "execution_count": 65,
   "id": "d0b8c959-624e-406b-a1e3-4a64afd7f457",
   "metadata": {},
   "outputs": [
    {
     "name": "stdout",
     "output_type": "stream",
     "text": [
      "Accuracy:94.788%\n"
     ]
    }
   ],
   "source": [
    "#Score the accuracy level\n",
    "result=model_knn.score(X_test,Y_test)\n",
    "\n",
    "\n",
    "#Print out the results\n",
    "print((\"Accuracy:%.3f%%\")%(result*100.0))"
   ]
  },
  {
   "cell_type": "code",
   "execution_count": 67,
   "id": "b0d1ccba-04fe-44a3-8002-526f2855f717",
   "metadata": {},
   "outputs": [],
   "source": [
    "## 8 Classify/Predict"
   ]
  },
  {
   "cell_type": "markdown",
   "id": "af38f294-d70c-4fd6-9b19-4b1544da620a",
   "metadata": {},
   "source": [
    "New Record 1:\n",
    "1. Temperature: 22.5\n",
    "2. Humidity: 78.3\n",
    "3. Wind_Speed: 6.4\n",
    "4. Cloud_Cover: 55.1\n",
    "5. Pressure: 1015.2\n"
   ]
  },
  {
   "cell_type": "code",
   "execution_count": 70,
   "id": "727bad48-a907-4e85-815c-4663370f10d6",
   "metadata": {},
   "outputs": [
    {
     "data": {
      "text/plain": [
       "array(['no rain'], dtype=object)"
      ]
     },
     "execution_count": 70,
     "metadata": {},
     "output_type": "execute_result"
    }
   ],
   "source": [
    "model.predict([[22.5,78.3,6.4,55.1,1015.2]])"
   ]
  },
  {
   "cell_type": "code",
   "execution_count": 72,
   "id": "eff6a278-fd6c-43ed-ae7e-72baeb614105",
   "metadata": {},
   "outputs": [
    {
     "data": {
      "text/plain": [
       "array(['no rain'], dtype=object)"
      ]
     },
     "execution_count": 72,
     "metadata": {},
     "output_type": "execute_result"
    }
   ],
   "source": [
    "model_knn.predict([[22.5,78.3,6.4,55.1,1015.2]])"
   ]
  },
  {
   "cell_type": "markdown",
   "id": "b5f02148-5d40-4ec4-beba-4dced95a59a2",
   "metadata": {},
   "source": [
    "New Record 2:\n",
    "1. Temperature: 30.2\n",
    "2. Humidity: 50.1\n",
    "3. Wind_Speed: 10.7\n",
    "4. Cloud_Cover: 20.3\n",
    "5. Pressure: 1012.7\n",
    "Rain: no rain"
   ]
  },
  {
   "cell_type": "code",
   "execution_count": 75,
   "id": "261010ea-e75e-49c4-b21a-67a12d6c7867",
   "metadata": {},
   "outputs": [
    {
     "data": {
      "text/plain": [
       "array(['no rain'], dtype=object)"
      ]
     },
     "execution_count": 75,
     "metadata": {},
     "output_type": "execute_result"
    }
   ],
   "source": [
    "model.predict([[30.2,50.1,10.7,20.3,1012.7]])"
   ]
  },
  {
   "cell_type": "code",
   "execution_count": 77,
   "id": "f63cd694-23b0-42e0-9253-e56f26bc93b9",
   "metadata": {},
   "outputs": [
    {
     "data": {
      "text/plain": [
       "array(['no rain'], dtype=object)"
      ]
     },
     "execution_count": 77,
     "metadata": {},
     "output_type": "execute_result"
    }
   ],
   "source": [
    "model_knn.predict([[30.2,50.1,10.7,20.3,1012.7]])"
   ]
  },
  {
   "cell_type": "markdown",
   "id": "3a7bade2-4339-4c37-8bbc-66642b71e285",
   "metadata": {},
   "source": [
    "## 9 Evaluate/Validate Algorithm/model - Using K-Fold Cross-Validation"
   ]
  },
  {
   "cell_type": "code",
   "execution_count": 80,
   "id": "0fbb383c-5f3c-4b8c-b6bd-394d22cac3d3",
   "metadata": {},
   "outputs": [
    {
     "name": "stdout",
     "output_type": "stream",
     "text": [
      "Accuracy:0.930(0.015)\n"
     ]
    },
    {
     "name": "stderr",
     "output_type": "stream",
     "text": [
      "C:\\Users\\Aleena\\anaconda3\\Lib\\site-packages\\sklearn\\linear_model\\_logistic.py:469: ConvergenceWarning: lbfgs failed to converge (status=1):\n",
      "STOP: TOTAL NO. of ITERATIONS REACHED LIMIT.\n",
      "\n",
      "Increase the number of iterations (max_iter) or scale the data as shown in:\n",
      "    https://scikit-learn.org/stable/modules/preprocessing.html\n",
      "Please also refer to the documentation for alternative solver options:\n",
      "    https://scikit-learn.org/stable/modules/linear_model.html#logistic-regression\n",
      "  n_iter_i = _check_optimize_result(\n",
      "C:\\Users\\Aleena\\anaconda3\\Lib\\site-packages\\sklearn\\linear_model\\_logistic.py:469: ConvergenceWarning: lbfgs failed to converge (status=1):\n",
      "STOP: TOTAL NO. of ITERATIONS REACHED LIMIT.\n",
      "\n",
      "Increase the number of iterations (max_iter) or scale the data as shown in:\n",
      "    https://scikit-learn.org/stable/modules/preprocessing.html\n",
      "Please also refer to the documentation for alternative solver options:\n",
      "    https://scikit-learn.org/stable/modules/linear_model.html#logistic-regression\n",
      "  n_iter_i = _check_optimize_result(\n",
      "C:\\Users\\Aleena\\anaconda3\\Lib\\site-packages\\sklearn\\linear_model\\_logistic.py:469: ConvergenceWarning: lbfgs failed to converge (status=1):\n",
      "STOP: TOTAL NO. of ITERATIONS REACHED LIMIT.\n",
      "\n",
      "Increase the number of iterations (max_iter) or scale the data as shown in:\n",
      "    https://scikit-learn.org/stable/modules/preprocessing.html\n",
      "Please also refer to the documentation for alternative solver options:\n",
      "    https://scikit-learn.org/stable/modules/linear_model.html#logistic-regression\n",
      "  n_iter_i = _check_optimize_result(\n",
      "C:\\Users\\Aleena\\anaconda3\\Lib\\site-packages\\sklearn\\linear_model\\_logistic.py:469: ConvergenceWarning: lbfgs failed to converge (status=1):\n",
      "STOP: TOTAL NO. of ITERATIONS REACHED LIMIT.\n",
      "\n",
      "Increase the number of iterations (max_iter) or scale the data as shown in:\n",
      "    https://scikit-learn.org/stable/modules/preprocessing.html\n",
      "Please also refer to the documentation for alternative solver options:\n",
      "    https://scikit-learn.org/stable/modules/linear_model.html#logistic-regression\n",
      "  n_iter_i = _check_optimize_result(\n"
     ]
    }
   ],
   "source": [
    "# Evaluate the algorithm \n",
    "# specify the number of times of repeated splitting \n",
    "n_splits = 10\n",
    "\n",
    "# Fix the random seed\n",
    "# Must use the same seed value so that the same subsets can be obtained for each time the process is repeated\n",
    "seed=7\n",
    "\n",
    "#Specify test size\n",
    "test_size=0.33\n",
    "\n",
    "#split the whole data set into folds\n",
    "kfold = KFold(n_splits=n_splits,shuffle=True,random_state= seed)\n",
    "\n",
    "#For Logistic Regression, we can use accuracy (mean squared error)\n",
    "# to evaluate the model/algorithm \n",
    "scoring = 'accuracy'\n",
    "\n",
    "#Train the model and run K-fold cross-validation/evaluate the model\n",
    "results =cross_val_score(model, X,Y, cv= kfold, scoring=scoring)\n",
    "#print out the evaluation results \n",
    "# Result: the average of all results obtained from the k-fold cross-validation\n",
    "print(\"Accuracy:%.3f(%.3f)\"%(results.mean(),results.std()))"
   ]
  },
  {
   "cell_type": "code",
   "execution_count": 82,
   "id": "7c8733a6-cad2-4e1b-b91b-b9cd67d6038d",
   "metadata": {},
   "outputs": [
    {
     "name": "stdout",
     "output_type": "stream",
     "text": [
      "Accuracy:0.958(0.010)\n"
     ]
    }
   ],
   "source": [
    "# Evaluate the algorithm \n",
    "# specify the number of times of repeated splitting \n",
    "n_splits = 10\n",
    "\n",
    "# Fix the random seed\n",
    "# Must use the same seed value so that the same subsets can be obtained for each time the process is repeated\n",
    "seed=7\n",
    "\n",
    "#Specify test size\n",
    "test_size=0.33\n",
    "\n",
    "#split the whole data set into folds\n",
    "kfold = KFold(n_splits=n_splits,shuffle=True,random_state= seed)\n",
    "\n",
    "#For Logistic Regression, we can use accuracy (mean squared error)\n",
    "# to evaluate the model/algorithm \n",
    "scoring = 'accuracy'\n",
    "\n",
    "#Train the model and run K-fold cross-validation/evaluate the model\n",
    "results =cross_val_score(model_knn, X,Y, cv= kfold, scoring=scoring)\n",
    "#print out the evaluation results \n",
    "# Result: the average of all results obtained from the k-fold cross-validation\n",
    "print(\"Accuracy:%.3f(%.3f)\"%(results.mean(),results.std()))"
   ]
  },
  {
   "cell_type": "code",
   "execution_count": null,
   "id": "017b1509-03b0-4280-ae75-ef3af8cd9b48",
   "metadata": {},
   "outputs": [],
   "source": []
  }
 ],
 "metadata": {
  "kernelspec": {
   "display_name": "Python 3 (ipykernel)",
   "language": "python",
   "name": "python3"
  },
  "language_info": {
   "codemirror_mode": {
    "name": "ipython",
    "version": 3
   },
   "file_extension": ".py",
   "mimetype": "text/x-python",
   "name": "python",
   "nbconvert_exporter": "python",
   "pygments_lexer": "ipython3",
   "version": "3.12.4"
  }
 },
 "nbformat": 4,
 "nbformat_minor": 5
}
