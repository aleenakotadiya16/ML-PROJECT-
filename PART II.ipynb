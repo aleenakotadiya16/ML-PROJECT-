{
 "cells": [
  {
   "cell_type": "markdown",
   "id": "87b4ec43-749a-4937-8b26-ac3b318c3249",
   "metadata": {},
   "source": [
    "## Import Python Libraries and Modules"
   ]
  },
  {
   "cell_type": "code",
   "execution_count": 2,
   "id": "1d0ee011-b43c-4dee-8a02-14d2a1564317",
   "metadata": {},
   "outputs": [],
   "source": [
    "#Import python libraries and modules\n",
    "import pandas as pd\n",
    "import numpy as np\n",
    "\n",
    "#Import libraries and modules for vizualization\n",
    "from pandas.plotting import scatter_matrix\n",
    "from matplotlib import pyplot"
   ]
  },
  {
   "cell_type": "markdown",
   "id": "f219a3a9-24f7-484d-a1ec-50f2c235dfc3",
   "metadata": {},
   "source": [
    "## 1. Load Dataset"
   ]
  },
  {
   "cell_type": "code",
   "execution_count": 5,
   "id": "587c1a99-4688-4647-995b-32bbd73815ed",
   "metadata": {},
   "outputs": [],
   "source": [
    "#Specify what and where is the data file\n",
    "filename = \"C:/Users/Aleena/Desktop/UNT/big data/FINAL PROJECT/Life Expectancy Data.csv\"\n",
    "\n",
    "#Load the data into a Pandas Dataframe\n",
    "df=pd.read_csv(filename)"
   ]
  },
  {
   "cell_type": "markdown",
   "id": "92cabd17-3369-4aa5-8c19-81b1a7640350",
   "metadata": {},
   "source": [
    "## 2. Preprocess Dataset"
   ]
  },
  {
   "cell_type": "markdown",
   "id": "ca361969-2b7b-4701-a793-6b1cfb6ff7af",
   "metadata": {},
   "source": [
    "Clean Data: Find and Mark Missing Values"
   ]
  },
  {
   "cell_type": "markdown",
   "id": "87d8d9db-2f2e-4929-be27-71217f19aac3",
   "metadata": {},
   "source": [
    "NOTES:\n",
    "\n",
    "The following columns cannot contain 0 values\n",
    "\n",
    "i.e 0 values are invalid in these columns\n",
    "\n",
    "1. Country\n",
    "2. Year\n",
    "3. Status\n",
    "4. Life Expectancy\n",
    "5. BMI\n",
    "6. GDP\n",
    "7. Population\n",
    "8. Expenditure\n",
    "\n",
    "If they exist, we need to mark them as missing value or numpy NaN"
   ]
  },
  {
   "cell_type": "code",
   "execution_count": 22,
   "id": "a4b96402-b49a-4ca5-85b3-3e01c1da4b62",
   "metadata": {},
   "outputs": [],
   "source": [
    "#mark zero values as missing or NaN \n",
    "df[['Country','Year','Status','Life expectancy ',' BMI ','GDP','Population','Total expenditure']] = df[['Country','Year','Status','Life expectancy ',' BMI ','GDP','Population','Total expenditure']].replace(0,np.NaN)\n"
   ]
  },
  {
   "cell_type": "code",
   "execution_count": 24,
   "id": "642ba277-7bba-43f6-81c3-d7407971b330",
   "metadata": {},
   "outputs": [
    {
     "name": "stdout",
     "output_type": "stream",
     "text": [
      "Country                              0\n",
      "Year                                 0\n",
      "Status                               0\n",
      "Life expectancy                     10\n",
      "Adult Mortality                     10\n",
      "infant deaths                        0\n",
      "Alcohol                            194\n",
      "percentage expenditure               0\n",
      "Hepatitis B                        553\n",
      "Measles                              0\n",
      " BMI                                34\n",
      "under-five deaths                    0\n",
      "Polio                               19\n",
      "Total expenditure                  226\n",
      "Diphtheria                          19\n",
      " HIV/AIDS                            0\n",
      "GDP                                448\n",
      "Population                         652\n",
      " thinness  1-19 years               34\n",
      " thinness 5-9 years                 34\n",
      "Income composition of resources    167\n",
      "Schooling                          163\n",
      "dtype: int64\n"
     ]
    }
   ],
   "source": [
    "#Count the number of NaN values in each column\n",
    "print(df.isnull().sum())"
   ]
  },
  {
   "cell_type": "code",
   "execution_count": 26,
   "id": "98f767f0-637c-459f-97b5-48b111ad5442",
   "metadata": {},
   "outputs": [
    {
     "name": "stdout",
     "output_type": "stream",
     "text": [
      "Country                             0.000000\n",
      "Year                                0.000000\n",
      "Status                              0.000000\n",
      "Life expectancy                     0.340368\n",
      "Adult Mortality                     0.340368\n",
      "infant deaths                       0.000000\n",
      "Alcohol                             6.603131\n",
      "percentage expenditure              0.000000\n",
      "Hepatitis B                        18.822328\n",
      "Measles                             0.000000\n",
      " BMI                                1.157250\n",
      "under-five deaths                   0.000000\n",
      "Polio                               0.646698\n",
      "Total expenditure                   7.692308\n",
      "Diphtheria                          0.646698\n",
      " HIV/AIDS                           0.000000\n",
      "GDP                                15.248468\n",
      "Population                         22.191967\n",
      " thinness  1-19 years               1.157250\n",
      " thinness 5-9 years                 1.157250\n",
      "Income composition of resources     5.684139\n",
      "Schooling                           5.547992\n",
      "dtype: float64\n"
     ]
    }
   ],
   "source": [
    "#Lets get the percentage of Nan Values\n",
    "# Calculate the percentage of NaN values in each column\n",
    "nan_percentage = df.isnull().mean() * 100\n",
    "\n",
    "# Display the results\n",
    "print(nan_percentage)"
   ]
  },
  {
   "cell_type": "markdown",
   "id": "db943a1d-b88f-452b-9c72-cfe06817910c",
   "metadata": {},
   "source": [
    "AS you can see columns like 'Life Expectancy','Adult Mortality','BMI','thinness 1-19 years','thinness 5-19 years','Polio' and 'Diphtheria' have a very small percentage of missing data for some equivalent to zero.\n",
    "For these we are going to drop the rows with NAN Values\n"
   ]
  },
  {
   "cell_type": "code",
   "execution_count": 43,
   "id": "3639ef61-b8c3-483b-971b-9f85bf2a5087",
   "metadata": {},
   "outputs": [],
   "source": [
    "# List of columns to check for NaN values\n",
    "columns_to_check = ['Life expectancy ',' BMI ','Adult Mortality',' thinness  1-19 years',' thinness 5-9 years','Polio','Diphtheria ']\n",
    "\n",
    "df.dropna(subset=columns_to_check, inplace=True)"
   ]
  },
  {
   "cell_type": "markdown",
   "id": "5e95b29d-226a-48ca-b9cd-2b6d9bb5a7e4",
   "metadata": {},
   "source": [
    "Now lets check these Nan value percentage"
   ]
  },
  {
   "cell_type": "code",
   "execution_count": 46,
   "id": "d3e8094e-6db2-4b4e-83f0-3cb325e85f9f",
   "metadata": {},
   "outputs": [
    {
     "name": "stdout",
     "output_type": "stream",
     "text": [
      "Country                             0.000000\n",
      "Year                                0.000000\n",
      "Status                              0.000000\n",
      "Life expectancy                     0.000000\n",
      "Adult Mortality                     0.000000\n",
      "infant deaths                       0.000000\n",
      "Alcohol                             6.059557\n",
      "percentage expenditure              0.000000\n",
      "Hepatitis B                        18.178670\n",
      "Measles                             0.000000\n",
      " BMI                                0.000000\n",
      "under-five deaths                   0.000000\n",
      "Polio                               0.000000\n",
      "Total expenditure                   7.340720\n",
      "Diphtheria                          0.000000\n",
      " HIV/AIDS                           0.000000\n",
      "GDP                                15.062327\n",
      "Population                         22.299169\n",
      " thinness  1-19 years               0.000000\n",
      " thinness 5-9 years                 0.000000\n",
      "Income composition of resources     5.540166\n",
      "Schooling                           5.540166\n",
      "dtype: float64\n"
     ]
    }
   ],
   "source": [
    "#Lets get the percentage of Nan Values\n",
    "# Calculate the percentage of NaN values in each column\n",
    "nan_percentage = df.isnull().mean() * 100\n",
    "\n",
    "# Display the results\n",
    "print(nan_percentage)"
   ]
  },
  {
   "cell_type": "markdown",
   "id": "c16d499a-f10e-4f15-8883-cfeab3d6cd6b",
   "metadata": {},
   "source": [
    "### Imputing the values\n",
    "Lets find out the data types before we decide how to impute the values"
   ]
  },
  {
   "cell_type": "code",
   "execution_count": 53,
   "id": "148eb29f-acfc-4cc7-8a92-b0482910ae41",
   "metadata": {},
   "outputs": [
    {
     "data": {
      "text/plain": [
       "Country                             object\n",
       "Year                                 int64\n",
       "Status                              object\n",
       "Life expectancy                    float64\n",
       "Adult Mortality                    float64\n",
       "infant deaths                        int64\n",
       "Alcohol                            float64\n",
       "percentage expenditure             float64\n",
       "Hepatitis B                        float64\n",
       "Measles                              int64\n",
       " BMI                               float64\n",
       "under-five deaths                    int64\n",
       "Polio                              float64\n",
       "Total expenditure                  float64\n",
       "Diphtheria                         float64\n",
       " HIV/AIDS                          float64\n",
       "GDP                                float64\n",
       "Population                         float64\n",
       " thinness  1-19 years              float64\n",
       " thinness 5-9 years                float64\n",
       "Income composition of resources    float64\n",
       "Schooling                          float64\n",
       "dtype: object"
      ]
     },
     "execution_count": 53,
     "metadata": {},
     "output_type": "execute_result"
    }
   ],
   "source": [
    "df.dtypes"
   ]
  },
  {
   "cell_type": "markdown",
   "id": "7e20ed52-1fda-4cc2-9be1-7aaf710c60da",
   "metadata": {},
   "source": [
    "So the Coulmns with missing values have the following data types\n",
    "1. Alcohol - float64\n",
    "2. Hepatitis B - float 64\n",
    "3. Total Expenditure - float64\n",
    "4. GDP- float65\n",
    "5. Population -Floadt64\n",
    "6. Income composition of resources - float64\n",
    "7. Schooling - float64\n"
   ]
  },
  {
   "cell_type": "markdown",
   "id": "32e45e2b-78ee-422a-839d-b43fb370f3ff",
   "metadata": {},
   "source": [
    "Since all these columns are of float data type we can impute values with the mean of the columns"
   ]
  },
  {
   "cell_type": "code",
   "execution_count": 59,
   "id": "63e8a1ff-8f19-49bd-8375-0264f133864d",
   "metadata": {},
   "outputs": [
    {
     "name": "stderr",
     "output_type": "stream",
     "text": [
      "C:\\Users\\Aleena\\AppData\\Local\\Temp\\ipykernel_28852\\1354289066.py:14: FutureWarning: A value is trying to be set on a copy of a DataFrame or Series through chained assignment using an inplace method.\n",
      "The behavior will change in pandas 3.0. This inplace method will never work because the intermediate object on which we are setting values always behaves as a copy.\n",
      "\n",
      "For example, when doing 'df[col].method(value, inplace=True)', try using 'df.method({col: value}, inplace=True)' or df[col] = df[col].method(value) instead, to perform the operation inplace on the original object.\n",
      "\n",
      "\n",
      "  df[column].fillna(df[column].mean(), inplace=True)\n"
     ]
    }
   ],
   "source": [
    "# List of columns to impute\n",
    "columns_to_impute = [\n",
    "    'Alcohol',\n",
    "    'Hepatitis B',\n",
    "    'Total expenditure',\n",
    "    'GDP',\n",
    "    'Population',\n",
    "    'Income composition of resources',\n",
    "    'Schooling'\n",
    "]\n",
    "\n",
    "# Impute missing values with the mean of each column\n",
    "for column in columns_to_impute:\n",
    "    df[column].fillna(df[column].mean(), inplace=True)"
   ]
  },
  {
   "cell_type": "markdown",
   "id": "6d683922-27fa-4662-93b4-444fd8250aac",
   "metadata": {},
   "source": [
    "Let's check the NAN Values "
   ]
  },
  {
   "cell_type": "code",
   "execution_count": 62,
   "id": "6cb45638-5469-4d31-bdf2-00346161f035",
   "metadata": {},
   "outputs": [
    {
     "name": "stdout",
     "output_type": "stream",
     "text": [
      "Country                            0.0\n",
      "Year                               0.0\n",
      "Status                             0.0\n",
      "Life expectancy                    0.0\n",
      "Adult Mortality                    0.0\n",
      "infant deaths                      0.0\n",
      "Alcohol                            0.0\n",
      "percentage expenditure             0.0\n",
      "Hepatitis B                        0.0\n",
      "Measles                            0.0\n",
      " BMI                               0.0\n",
      "under-five deaths                  0.0\n",
      "Polio                              0.0\n",
      "Total expenditure                  0.0\n",
      "Diphtheria                         0.0\n",
      " HIV/AIDS                          0.0\n",
      "GDP                                0.0\n",
      "Population                         0.0\n",
      " thinness  1-19 years              0.0\n",
      " thinness 5-9 years                0.0\n",
      "Income composition of resources    0.0\n",
      "Schooling                          0.0\n",
      "dtype: float64\n"
     ]
    }
   ],
   "source": [
    "#Lets get the percentage of Nan Values\n",
    "# Calculate the percentage of NaN values in each column\n",
    "nan_percentage = df.isnull().mean() * 100\n",
    "\n",
    "# Display the results\n",
    "print(nan_percentage)"
   ]
  },
  {
   "cell_type": "markdown",
   "id": "db83c7d4-fdd6-4b5d-9b19-139089c9d4b4",
   "metadata": {},
   "source": [
    "#### All nan values are now replaced"
   ]
  },
  {
   "cell_type": "code",
   "execution_count": 67,
   "id": "7f1c9578-84d0-4be4-b06b-3193ab5cb030",
   "metadata": {},
   "outputs": [
    {
     "name": "stdout",
     "output_type": "stream",
     "text": [
      "Dataset saved as 'cleaned_dataset.csv'\n"
     ]
    }
   ],
   "source": [
    "df.to_csv('cleaned_dataset.csv', index=False)\n",
    "\n",
    "# Confirm the file is saved\n",
    "print(\"Dataset saved as 'cleaned_dataset.csv'\")"
   ]
  },
  {
   "cell_type": "code",
   "execution_count": null,
   "id": "736f6598-ac7d-4aed-b201-4599e6a5bde3",
   "metadata": {},
   "outputs": [],
   "source": []
  }
 ],
 "metadata": {
  "kernelspec": {
   "display_name": "Python 3 (ipykernel)",
   "language": "python",
   "name": "python3"
  },
  "language_info": {
   "codemirror_mode": {
    "name": "ipython",
    "version": 3
   },
   "file_extension": ".py",
   "mimetype": "text/x-python",
   "name": "python",
   "nbconvert_exporter": "python",
   "pygments_lexer": "ipython3",
   "version": "3.12.3"
  }
 },
 "nbformat": 4,
 "nbformat_minor": 5
}
