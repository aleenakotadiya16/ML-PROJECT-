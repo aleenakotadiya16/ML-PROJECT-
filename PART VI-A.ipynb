{
 "cells": [
  {
   "cell_type": "markdown",
   "id": "b36e191e-8c39-4657-9078-86296de05b96",
   "metadata": {},
   "source": [
    "# Import Python Libraries and Modules:"
   ]
  },
  {
   "cell_type": "code",
   "execution_count": 2,
   "id": "34f1c45a-2808-43e3-b099-0c39b2d13ac3",
   "metadata": {},
   "outputs": [],
   "source": [
    "#Import Python libraries: Numpy and Pandas\n",
    "import pandas as pd\n",
    "import numpy as np\n",
    "\n",
    "#Import libraries and modules for data Visualization\n",
    "from pandas.plotting import scatter_matrix\n",
    "from matplotlib import pyplot"
   ]
  },
  {
   "cell_type": "markdown",
   "id": "609a180a-4484-4678-806a-41eac14f225a",
   "metadata": {},
   "source": [
    "# 1. Load Dataset"
   ]
  },
  {
   "cell_type": "code",
   "execution_count": 6,
   "id": "dd001000-f726-4067-9d1d-1374aabfd1e8",
   "metadata": {},
   "outputs": [],
   "source": [
    "filename = \"C:/Users/Aleena/Desktop/UNT/big data/FINAL PROJECT/abalone.csv\"\n",
    "col_names =['Sex','Length','Diameter','Height','Whole weight','Shucked weight','Viscera weight','Shell weight','Rings']\n",
    "df = pd.read_csv(filename, names=col_names, index_col= False)\n"
   ]
  },
  {
   "cell_type": "markdown",
   "id": "6d0f576b-12c8-421e-ad8a-be790c0ed9e7",
   "metadata": {},
   "source": [
    "# 2. Preprocess Dataset"
   ]
  },
  {
   "cell_type": "code",
   "execution_count": 10,
   "id": "ed6533a5-9df5-4238-9fa7-ef7abe6e0a3a",
   "metadata": {},
   "outputs": [
    {
     "name": "stdout",
     "output_type": "stream",
     "text": [
      "Sex               0\n",
      "Length            0\n",
      "Diameter          0\n",
      "Height            0\n",
      "Whole weight      0\n",
      "Shucked weight    0\n",
      "Viscera weight    0\n",
      "Shell weight      0\n",
      "Rings             0\n",
      "dtype: int64\n"
     ]
    }
   ],
   "source": [
    "#Lets Find null values\n",
    "#Count the number of NAN values in each column\n",
    "print(df.isnull().sum())"
   ]
  },
  {
   "cell_type": "code",
   "execution_count": 12,
   "id": "b32d875a-7496-4760-b616-122041c2cb34",
   "metadata": {},
   "outputs": [],
   "source": [
    "df['age'] = df['Rings']+1.5\n",
    "df = df.drop('Rings', axis = 1)"
   ]
  },
  {
   "cell_type": "markdown",
   "id": "2b94dfdc-1b65-4775-ae24-eda77eeaf6ce",
   "metadata": {},
   "source": [
    "## 4. Separate Datset into Input and Output Arrays"
   ]
  },
  {
   "cell_type": "code",
   "execution_count": 27,
   "id": "18ca5a50-4530-4459-b02e-ec16a181914f",
   "metadata": {},
   "outputs": [],
   "source": [
    "#Import scit-learn module for the algorithm/model: Linear regression\n",
    "from sklearn.linear_model import LinearRegression\n",
    "from sklearn.tree import DecisionTreeRegressor\n",
    "from sklearn.metrics import mean_squared_error\n",
    "#Import scit-learn module to split the dataset into tain/test subdatasets\n",
    "from sklearn.model_selection import train_test_split\n",
    "\n",
    "#Import scit-learn module for K-fold cross-validation- algorithm/model evaluation and validation\n",
    "from sklearn.model_selection import KFold\n",
    "from sklearn.model_selection import cross_val_score"
   ]
  },
  {
   "cell_type": "code",
   "execution_count": 19,
   "id": "4dd0a4e5-5492-4dfe-b995-ae030422dfbf",
   "metadata": {},
   "outputs": [
    {
     "name": "stdout",
     "output_type": "stream",
     "text": [
      "Sex                  int8\n",
      "Length            float64\n",
      "Diameter          float64\n",
      "Height            float64\n",
      "Whole weight      float64\n",
      "Shucked weight    float64\n",
      "Viscera weight    float64\n",
      "Shell weight      float64\n",
      "age               float64\n",
      "dtype: object\n"
     ]
    }
   ],
   "source": [
    "df.Sex = pd.Categorical(df.Sex)\n",
    "df['Sex'] = df.Sex.cat.codes\n",
    "print(df.dtypes)"
   ]
  },
  {
   "cell_type": "code",
   "execution_count": 21,
   "id": "f8bbe66f-21a0-4baf-963d-2a8611b54ea8",
   "metadata": {},
   "outputs": [],
   "source": [
    "array = df.values\n",
    "# separate array into input and output components by slicing \n",
    "# For X (input)[:,0:8] ---> all the rows, columns from 0-8(9-1) (no rings)\n",
    "X = array[:,0:8]\n",
    "\n",
    "\n",
    "\n",
    "\n",
    "#For Y (output)[:,8] ---> all the rows, column index 5(last column)\n",
    "Y = array[:,8]"
   ]
  },
  {
   "cell_type": "code",
   "execution_count": 23,
   "id": "5115904a-024d-49c9-8b2b-8c592c3599f1",
   "metadata": {},
   "outputs": [],
   "source": [
    "## 5. Split Input/Output Arrays into Training/Testing Datasets"
   ]
  },
  {
   "cell_type": "code",
   "execution_count": 25,
   "id": "87724548-e4de-45c7-a1d5-2050afcd6383",
   "metadata": {},
   "outputs": [],
   "source": [
    "# Split the dataset --> training sub-dataset: 67%; test sub-dataset:33%\n",
    "test_size = 0.33\n",
    "# Selection of records to include in which sub-datset must be done randomly \n",
    "# Use this seed for randomization\n",
    "seed=7\n",
    "#Split the datset (both input and output) into taining/testing datasets\n",
    "X_train,X_test,Y_train,Y_test = train_test_split(X,Y,test_size=test_size,random_state = seed)"
   ]
  },
  {
   "cell_type": "markdown",
   "id": "aa55043d-fa93-43d1-b8d5-bd1c0f27271e",
   "metadata": {},
   "source": [
    "## 6 Build and Train Model"
   ]
  },
  {
   "cell_type": "code",
   "execution_count": 29,
   "id": "2208ec3e-620b-4941-936a-476b7baaa799",
   "metadata": {},
   "outputs": [
    {
     "name": "stdout",
     "output_type": "stream",
     "text": [
      "4.148108689309409\n",
      "[  0.06240791   0.3626927   12.64808616   9.4881838    9.80737186\n",
      " -20.09472745 -10.52582156   6.14673301]\n"
     ]
    }
   ],
   "source": [
    "# Build the model\n",
    "model= LinearRegression()\n",
    "#Train the model using the training sub-dataset\n",
    "model.fit(X_train,Y_train)\n",
    "#print out the coefficients and the intercepts \n",
    "#print intercepts and coefficiesnts\n",
    "print (model.intercept_)\n",
    "print(model.coef_)"
   ]
  },
  {
   "cell_type": "code",
   "execution_count": 34,
   "id": "13fdb015-7242-4980-9c2a-eca9bb34b0f2",
   "metadata": {},
   "outputs": [
    {
     "data": {
      "text/html": [
       "<style>#sk-container-id-1 {\n",
       "  /* Definition of color scheme common for light and dark mode */\n",
       "  --sklearn-color-text: black;\n",
       "  --sklearn-color-line: gray;\n",
       "  /* Definition of color scheme for unfitted estimators */\n",
       "  --sklearn-color-unfitted-level-0: #fff5e6;\n",
       "  --sklearn-color-unfitted-level-1: #f6e4d2;\n",
       "  --sklearn-color-unfitted-level-2: #ffe0b3;\n",
       "  --sklearn-color-unfitted-level-3: chocolate;\n",
       "  /* Definition of color scheme for fitted estimators */\n",
       "  --sklearn-color-fitted-level-0: #f0f8ff;\n",
       "  --sklearn-color-fitted-level-1: #d4ebff;\n",
       "  --sklearn-color-fitted-level-2: #b3dbfd;\n",
       "  --sklearn-color-fitted-level-3: cornflowerblue;\n",
       "\n",
       "  /* Specific color for light theme */\n",
       "  --sklearn-color-text-on-default-background: var(--sg-text-color, var(--theme-code-foreground, var(--jp-content-font-color1, black)));\n",
       "  --sklearn-color-background: var(--sg-background-color, var(--theme-background, var(--jp-layout-color0, white)));\n",
       "  --sklearn-color-border-box: var(--sg-text-color, var(--theme-code-foreground, var(--jp-content-font-color1, black)));\n",
       "  --sklearn-color-icon: #696969;\n",
       "\n",
       "  @media (prefers-color-scheme: dark) {\n",
       "    /* Redefinition of color scheme for dark theme */\n",
       "    --sklearn-color-text-on-default-background: var(--sg-text-color, var(--theme-code-foreground, var(--jp-content-font-color1, white)));\n",
       "    --sklearn-color-background: var(--sg-background-color, var(--theme-background, var(--jp-layout-color0, #111)));\n",
       "    --sklearn-color-border-box: var(--sg-text-color, var(--theme-code-foreground, var(--jp-content-font-color1, white)));\n",
       "    --sklearn-color-icon: #878787;\n",
       "  }\n",
       "}\n",
       "\n",
       "#sk-container-id-1 {\n",
       "  color: var(--sklearn-color-text);\n",
       "}\n",
       "\n",
       "#sk-container-id-1 pre {\n",
       "  padding: 0;\n",
       "}\n",
       "\n",
       "#sk-container-id-1 input.sk-hidden--visually {\n",
       "  border: 0;\n",
       "  clip: rect(1px 1px 1px 1px);\n",
       "  clip: rect(1px, 1px, 1px, 1px);\n",
       "  height: 1px;\n",
       "  margin: -1px;\n",
       "  overflow: hidden;\n",
       "  padding: 0;\n",
       "  position: absolute;\n",
       "  width: 1px;\n",
       "}\n",
       "\n",
       "#sk-container-id-1 div.sk-dashed-wrapped {\n",
       "  border: 1px dashed var(--sklearn-color-line);\n",
       "  margin: 0 0.4em 0.5em 0.4em;\n",
       "  box-sizing: border-box;\n",
       "  padding-bottom: 0.4em;\n",
       "  background-color: var(--sklearn-color-background);\n",
       "}\n",
       "\n",
       "#sk-container-id-1 div.sk-container {\n",
       "  /* jupyter's `normalize.less` sets `[hidden] { display: none; }`\n",
       "     but bootstrap.min.css set `[hidden] { display: none !important; }`\n",
       "     so we also need the `!important` here to be able to override the\n",
       "     default hidden behavior on the sphinx rendered scikit-learn.org.\n",
       "     See: https://github.com/scikit-learn/scikit-learn/issues/21755 */\n",
       "  display: inline-block !important;\n",
       "  position: relative;\n",
       "}\n",
       "\n",
       "#sk-container-id-1 div.sk-text-repr-fallback {\n",
       "  display: none;\n",
       "}\n",
       "\n",
       "div.sk-parallel-item,\n",
       "div.sk-serial,\n",
       "div.sk-item {\n",
       "  /* draw centered vertical line to link estimators */\n",
       "  background-image: linear-gradient(var(--sklearn-color-text-on-default-background), var(--sklearn-color-text-on-default-background));\n",
       "  background-size: 2px 100%;\n",
       "  background-repeat: no-repeat;\n",
       "  background-position: center center;\n",
       "}\n",
       "\n",
       "/* Parallel-specific style estimator block */\n",
       "\n",
       "#sk-container-id-1 div.sk-parallel-item::after {\n",
       "  content: \"\";\n",
       "  width: 100%;\n",
       "  border-bottom: 2px solid var(--sklearn-color-text-on-default-background);\n",
       "  flex-grow: 1;\n",
       "}\n",
       "\n",
       "#sk-container-id-1 div.sk-parallel {\n",
       "  display: flex;\n",
       "  align-items: stretch;\n",
       "  justify-content: center;\n",
       "  background-color: var(--sklearn-color-background);\n",
       "  position: relative;\n",
       "}\n",
       "\n",
       "#sk-container-id-1 div.sk-parallel-item {\n",
       "  display: flex;\n",
       "  flex-direction: column;\n",
       "}\n",
       "\n",
       "#sk-container-id-1 div.sk-parallel-item:first-child::after {\n",
       "  align-self: flex-end;\n",
       "  width: 50%;\n",
       "}\n",
       "\n",
       "#sk-container-id-1 div.sk-parallel-item:last-child::after {\n",
       "  align-self: flex-start;\n",
       "  width: 50%;\n",
       "}\n",
       "\n",
       "#sk-container-id-1 div.sk-parallel-item:only-child::after {\n",
       "  width: 0;\n",
       "}\n",
       "\n",
       "/* Serial-specific style estimator block */\n",
       "\n",
       "#sk-container-id-1 div.sk-serial {\n",
       "  display: flex;\n",
       "  flex-direction: column;\n",
       "  align-items: center;\n",
       "  background-color: var(--sklearn-color-background);\n",
       "  padding-right: 1em;\n",
       "  padding-left: 1em;\n",
       "}\n",
       "\n",
       "\n",
       "/* Toggleable style: style used for estimator/Pipeline/ColumnTransformer box that is\n",
       "clickable and can be expanded/collapsed.\n",
       "- Pipeline and ColumnTransformer use this feature and define the default style\n",
       "- Estimators will overwrite some part of the style using the `sk-estimator` class\n",
       "*/\n",
       "\n",
       "/* Pipeline and ColumnTransformer style (default) */\n",
       "\n",
       "#sk-container-id-1 div.sk-toggleable {\n",
       "  /* Default theme specific background. It is overwritten whether we have a\n",
       "  specific estimator or a Pipeline/ColumnTransformer */\n",
       "  background-color: var(--sklearn-color-background);\n",
       "}\n",
       "\n",
       "/* Toggleable label */\n",
       "#sk-container-id-1 label.sk-toggleable__label {\n",
       "  cursor: pointer;\n",
       "  display: block;\n",
       "  width: 100%;\n",
       "  margin-bottom: 0;\n",
       "  padding: 0.5em;\n",
       "  box-sizing: border-box;\n",
       "  text-align: center;\n",
       "}\n",
       "\n",
       "#sk-container-id-1 label.sk-toggleable__label-arrow:before {\n",
       "  /* Arrow on the left of the label */\n",
       "  content: \"▸\";\n",
       "  float: left;\n",
       "  margin-right: 0.25em;\n",
       "  color: var(--sklearn-color-icon);\n",
       "}\n",
       "\n",
       "#sk-container-id-1 label.sk-toggleable__label-arrow:hover:before {\n",
       "  color: var(--sklearn-color-text);\n",
       "}\n",
       "\n",
       "/* Toggleable content - dropdown */\n",
       "\n",
       "#sk-container-id-1 div.sk-toggleable__content {\n",
       "  max-height: 0;\n",
       "  max-width: 0;\n",
       "  overflow: hidden;\n",
       "  text-align: left;\n",
       "  /* unfitted */\n",
       "  background-color: var(--sklearn-color-unfitted-level-0);\n",
       "}\n",
       "\n",
       "#sk-container-id-1 div.sk-toggleable__content.fitted {\n",
       "  /* fitted */\n",
       "  background-color: var(--sklearn-color-fitted-level-0);\n",
       "}\n",
       "\n",
       "#sk-container-id-1 div.sk-toggleable__content pre {\n",
       "  margin: 0.2em;\n",
       "  border-radius: 0.25em;\n",
       "  color: var(--sklearn-color-text);\n",
       "  /* unfitted */\n",
       "  background-color: var(--sklearn-color-unfitted-level-0);\n",
       "}\n",
       "\n",
       "#sk-container-id-1 div.sk-toggleable__content.fitted pre {\n",
       "  /* unfitted */\n",
       "  background-color: var(--sklearn-color-fitted-level-0);\n",
       "}\n",
       "\n",
       "#sk-container-id-1 input.sk-toggleable__control:checked~div.sk-toggleable__content {\n",
       "  /* Expand drop-down */\n",
       "  max-height: 200px;\n",
       "  max-width: 100%;\n",
       "  overflow: auto;\n",
       "}\n",
       "\n",
       "#sk-container-id-1 input.sk-toggleable__control:checked~label.sk-toggleable__label-arrow:before {\n",
       "  content: \"▾\";\n",
       "}\n",
       "\n",
       "/* Pipeline/ColumnTransformer-specific style */\n",
       "\n",
       "#sk-container-id-1 div.sk-label input.sk-toggleable__control:checked~label.sk-toggleable__label {\n",
       "  color: var(--sklearn-color-text);\n",
       "  background-color: var(--sklearn-color-unfitted-level-2);\n",
       "}\n",
       "\n",
       "#sk-container-id-1 div.sk-label.fitted input.sk-toggleable__control:checked~label.sk-toggleable__label {\n",
       "  background-color: var(--sklearn-color-fitted-level-2);\n",
       "}\n",
       "\n",
       "/* Estimator-specific style */\n",
       "\n",
       "/* Colorize estimator box */\n",
       "#sk-container-id-1 div.sk-estimator input.sk-toggleable__control:checked~label.sk-toggleable__label {\n",
       "  /* unfitted */\n",
       "  background-color: var(--sklearn-color-unfitted-level-2);\n",
       "}\n",
       "\n",
       "#sk-container-id-1 div.sk-estimator.fitted input.sk-toggleable__control:checked~label.sk-toggleable__label {\n",
       "  /* fitted */\n",
       "  background-color: var(--sklearn-color-fitted-level-2);\n",
       "}\n",
       "\n",
       "#sk-container-id-1 div.sk-label label.sk-toggleable__label,\n",
       "#sk-container-id-1 div.sk-label label {\n",
       "  /* The background is the default theme color */\n",
       "  color: var(--sklearn-color-text-on-default-background);\n",
       "}\n",
       "\n",
       "/* On hover, darken the color of the background */\n",
       "#sk-container-id-1 div.sk-label:hover label.sk-toggleable__label {\n",
       "  color: var(--sklearn-color-text);\n",
       "  background-color: var(--sklearn-color-unfitted-level-2);\n",
       "}\n",
       "\n",
       "/* Label box, darken color on hover, fitted */\n",
       "#sk-container-id-1 div.sk-label.fitted:hover label.sk-toggleable__label.fitted {\n",
       "  color: var(--sklearn-color-text);\n",
       "  background-color: var(--sklearn-color-fitted-level-2);\n",
       "}\n",
       "\n",
       "/* Estimator label */\n",
       "\n",
       "#sk-container-id-1 div.sk-label label {\n",
       "  font-family: monospace;\n",
       "  font-weight: bold;\n",
       "  display: inline-block;\n",
       "  line-height: 1.2em;\n",
       "}\n",
       "\n",
       "#sk-container-id-1 div.sk-label-container {\n",
       "  text-align: center;\n",
       "}\n",
       "\n",
       "/* Estimator-specific */\n",
       "#sk-container-id-1 div.sk-estimator {\n",
       "  font-family: monospace;\n",
       "  border: 1px dotted var(--sklearn-color-border-box);\n",
       "  border-radius: 0.25em;\n",
       "  box-sizing: border-box;\n",
       "  margin-bottom: 0.5em;\n",
       "  /* unfitted */\n",
       "  background-color: var(--sklearn-color-unfitted-level-0);\n",
       "}\n",
       "\n",
       "#sk-container-id-1 div.sk-estimator.fitted {\n",
       "  /* fitted */\n",
       "  background-color: var(--sklearn-color-fitted-level-0);\n",
       "}\n",
       "\n",
       "/* on hover */\n",
       "#sk-container-id-1 div.sk-estimator:hover {\n",
       "  /* unfitted */\n",
       "  background-color: var(--sklearn-color-unfitted-level-2);\n",
       "}\n",
       "\n",
       "#sk-container-id-1 div.sk-estimator.fitted:hover {\n",
       "  /* fitted */\n",
       "  background-color: var(--sklearn-color-fitted-level-2);\n",
       "}\n",
       "\n",
       "/* Specification for estimator info (e.g. \"i\" and \"?\") */\n",
       "\n",
       "/* Common style for \"i\" and \"?\" */\n",
       "\n",
       ".sk-estimator-doc-link,\n",
       "a:link.sk-estimator-doc-link,\n",
       "a:visited.sk-estimator-doc-link {\n",
       "  float: right;\n",
       "  font-size: smaller;\n",
       "  line-height: 1em;\n",
       "  font-family: monospace;\n",
       "  background-color: var(--sklearn-color-background);\n",
       "  border-radius: 1em;\n",
       "  height: 1em;\n",
       "  width: 1em;\n",
       "  text-decoration: none !important;\n",
       "  margin-left: 1ex;\n",
       "  /* unfitted */\n",
       "  border: var(--sklearn-color-unfitted-level-1) 1pt solid;\n",
       "  color: var(--sklearn-color-unfitted-level-1);\n",
       "}\n",
       "\n",
       ".sk-estimator-doc-link.fitted,\n",
       "a:link.sk-estimator-doc-link.fitted,\n",
       "a:visited.sk-estimator-doc-link.fitted {\n",
       "  /* fitted */\n",
       "  border: var(--sklearn-color-fitted-level-1) 1pt solid;\n",
       "  color: var(--sklearn-color-fitted-level-1);\n",
       "}\n",
       "\n",
       "/* On hover */\n",
       "div.sk-estimator:hover .sk-estimator-doc-link:hover,\n",
       ".sk-estimator-doc-link:hover,\n",
       "div.sk-label-container:hover .sk-estimator-doc-link:hover,\n",
       ".sk-estimator-doc-link:hover {\n",
       "  /* unfitted */\n",
       "  background-color: var(--sklearn-color-unfitted-level-3);\n",
       "  color: var(--sklearn-color-background);\n",
       "  text-decoration: none;\n",
       "}\n",
       "\n",
       "div.sk-estimator.fitted:hover .sk-estimator-doc-link.fitted:hover,\n",
       ".sk-estimator-doc-link.fitted:hover,\n",
       "div.sk-label-container:hover .sk-estimator-doc-link.fitted:hover,\n",
       ".sk-estimator-doc-link.fitted:hover {\n",
       "  /* fitted */\n",
       "  background-color: var(--sklearn-color-fitted-level-3);\n",
       "  color: var(--sklearn-color-background);\n",
       "  text-decoration: none;\n",
       "}\n",
       "\n",
       "/* Span, style for the box shown on hovering the info icon */\n",
       ".sk-estimator-doc-link span {\n",
       "  display: none;\n",
       "  z-index: 9999;\n",
       "  position: relative;\n",
       "  font-weight: normal;\n",
       "  right: .2ex;\n",
       "  padding: .5ex;\n",
       "  margin: .5ex;\n",
       "  width: min-content;\n",
       "  min-width: 20ex;\n",
       "  max-width: 50ex;\n",
       "  color: var(--sklearn-color-text);\n",
       "  box-shadow: 2pt 2pt 4pt #999;\n",
       "  /* unfitted */\n",
       "  background: var(--sklearn-color-unfitted-level-0);\n",
       "  border: .5pt solid var(--sklearn-color-unfitted-level-3);\n",
       "}\n",
       "\n",
       ".sk-estimator-doc-link.fitted span {\n",
       "  /* fitted */\n",
       "  background: var(--sklearn-color-fitted-level-0);\n",
       "  border: var(--sklearn-color-fitted-level-3);\n",
       "}\n",
       "\n",
       ".sk-estimator-doc-link:hover span {\n",
       "  display: block;\n",
       "}\n",
       "\n",
       "/* \"?\"-specific style due to the `<a>` HTML tag */\n",
       "\n",
       "#sk-container-id-1 a.estimator_doc_link {\n",
       "  float: right;\n",
       "  font-size: 1rem;\n",
       "  line-height: 1em;\n",
       "  font-family: monospace;\n",
       "  background-color: var(--sklearn-color-background);\n",
       "  border-radius: 1rem;\n",
       "  height: 1rem;\n",
       "  width: 1rem;\n",
       "  text-decoration: none;\n",
       "  /* unfitted */\n",
       "  color: var(--sklearn-color-unfitted-level-1);\n",
       "  border: var(--sklearn-color-unfitted-level-1) 1pt solid;\n",
       "}\n",
       "\n",
       "#sk-container-id-1 a.estimator_doc_link.fitted {\n",
       "  /* fitted */\n",
       "  border: var(--sklearn-color-fitted-level-1) 1pt solid;\n",
       "  color: var(--sklearn-color-fitted-level-1);\n",
       "}\n",
       "\n",
       "/* On hover */\n",
       "#sk-container-id-1 a.estimator_doc_link:hover {\n",
       "  /* unfitted */\n",
       "  background-color: var(--sklearn-color-unfitted-level-3);\n",
       "  color: var(--sklearn-color-background);\n",
       "  text-decoration: none;\n",
       "}\n",
       "\n",
       "#sk-container-id-1 a.estimator_doc_link.fitted:hover {\n",
       "  /* fitted */\n",
       "  background-color: var(--sklearn-color-fitted-level-3);\n",
       "}\n",
       "</style><div id=\"sk-container-id-1\" class=\"sk-top-container\"><div class=\"sk-text-repr-fallback\"><pre>DecisionTreeRegressor(random_state=42)</pre><b>In a Jupyter environment, please rerun this cell to show the HTML representation or trust the notebook. <br />On GitHub, the HTML representation is unable to render, please try loading this page with nbviewer.org.</b></div><div class=\"sk-container\" hidden><div class=\"sk-item\"><div class=\"sk-estimator fitted sk-toggleable\"><input class=\"sk-toggleable__control sk-hidden--visually\" id=\"sk-estimator-id-1\" type=\"checkbox\" checked><label for=\"sk-estimator-id-1\" class=\"sk-toggleable__label fitted sk-toggleable__label-arrow fitted\">&nbsp;&nbsp;DecisionTreeRegressor<a class=\"sk-estimator-doc-link fitted\" rel=\"noreferrer\" target=\"_blank\" href=\"https://scikit-learn.org/1.4/modules/generated/sklearn.tree.DecisionTreeRegressor.html\">?<span>Documentation for DecisionTreeRegressor</span></a><span class=\"sk-estimator-doc-link fitted\">i<span>Fitted</span></span></label><div class=\"sk-toggleable__content fitted\"><pre>DecisionTreeRegressor(random_state=42)</pre></div> </div></div></div></div>"
      ],
      "text/plain": [
       "DecisionTreeRegressor(random_state=42)"
      ]
     },
     "execution_count": 34,
     "metadata": {},
     "output_type": "execute_result"
    }
   ],
   "source": [
    "# Build the Decision Tree model (CART)\n",
    "model_tree = DecisionTreeRegressor(random_state=42)\n",
    "\n",
    "# Train the model using the training sub-dataset\n",
    "model_tree.fit(X_train, Y_train)"
   ]
  },
  {
   "cell_type": "markdown",
   "id": "6ecd3420-456f-46a9-9230-eec732f21276",
   "metadata": {},
   "source": [
    "## 7 Calculate R-Squared"
   ]
  },
  {
   "cell_type": "code",
   "execution_count": 36,
   "id": "52d19a05-2629-48c8-acee-8c97d6618b4a",
   "metadata": {},
   "outputs": [
    {
     "name": "stdout",
     "output_type": "stream",
     "text": [
      "0.5223858580716234\n"
     ]
    }
   ],
   "source": [
    "## Calculate R-Squared\n",
    "R_squared = model.score(X_test,Y_test)\n",
    "print(R_squared)"
   ]
  },
  {
   "cell_type": "code",
   "execution_count": 38,
   "id": "bc341609-8b61-4a71-9c99-b1d261d6a642",
   "metadata": {},
   "outputs": [
    {
     "name": "stdout",
     "output_type": "stream",
     "text": [
      "0.14985936465153316\n"
     ]
    }
   ],
   "source": [
    "## Calculate R-Squared\n",
    "R_squared = model_tree.score(X_test,Y_test)\n",
    "print(R_squared)"
   ]
  },
  {
   "cell_type": "markdown",
   "id": "2e42d5ba-0feb-4453-8c0e-eca452bd8e17",
   "metadata": {},
   "source": [
    "## 8 Prediction"
   ]
  },
  {
   "cell_type": "markdown",
   "id": "e52abc78-e543-448e-802a-0bd79c228b89",
   "metadata": {},
   "source": [
    "1. Sex :Male(2)\n",
    "2. Length: mm: 0.44\n",
    "3. Diameter: mm : 0.3\n",
    "4. Height : mm : 0.15\n",
    "5. Whole weight : grams : 0.406\n",
    "6. Shucked weight : grams : 0.194\n",
    "7. Viscera weight : grams : 0.151\n",
    "8. Shell weight : grams : 0.12"
   ]
  },
  {
   "cell_type": "code",
   "execution_count": 43,
   "id": "39e5d6eb-cfa3-4646-89c6-e4e0780eb977",
   "metadata": {},
   "outputs": [
    {
     "data": {
      "text/plain": [
       "array([8.88178747])"
      ]
     },
     "execution_count": 43,
     "metadata": {},
     "output_type": "execute_result"
    }
   ],
   "source": [
    "model.predict([[2,0.44,0.3,0.15,0.406,0.194,0.151,0.12]])"
   ]
  },
  {
   "cell_type": "code",
   "execution_count": 45,
   "id": "faa00a13-b4f6-4945-b486-87fc98a27d18",
   "metadata": {},
   "outputs": [
    {
     "data": {
      "text/plain": [
       "array([8.5])"
      ]
     },
     "execution_count": 45,
     "metadata": {},
     "output_type": "execute_result"
    }
   ],
   "source": [
    "model_tree.predict([[2,0.44,0.3,0.15,0.406,0.194,0.151,0.12]])"
   ]
  },
  {
   "cell_type": "markdown",
   "id": "0e05f7f2-6c7b-4cdf-8709-477d40401cc7",
   "metadata": {},
   "source": [
    "1. Sex :Female(0)\n",
    "2. Length: mm: 0.45\n",
    "3. Diameter: mm : 0.38\n",
    "4. Height : mm : 0.11\n",
    "5. Whole weight : grams : 0.768\n",
    "6. Shucked weight : grams : 0.08\n",
    "7. Viscera weight : grams : 0.21\n",
    "8. Shell weight : grams : 0.1"
   ]
  },
  {
   "cell_type": "code",
   "execution_count": 50,
   "id": "f011ed05-9e03-46b8-8f67-eba2f2931d25",
   "metadata": {},
   "outputs": [
    {
     "data": {
      "text/plain": [
       "array([14.49002753])"
      ]
     },
     "execution_count": 50,
     "metadata": {},
     "output_type": "execute_result"
    }
   ],
   "source": [
    "model.predict([[0,0.45,0.38,0.11,0.768,0.08,0.21,0.1]])"
   ]
  },
  {
   "cell_type": "code",
   "execution_count": 52,
   "id": "ba2c224c-209f-4a52-ab30-c7b085ab4739",
   "metadata": {},
   "outputs": [
    {
     "data": {
      "text/plain": [
       "array([10.5])"
      ]
     },
     "execution_count": 52,
     "metadata": {},
     "output_type": "execute_result"
    }
   ],
   "source": [
    "model_tree.predict([[0,0.45,0.38,0.11,0.768,0.08,0.21,0.1]])"
   ]
  },
  {
   "cell_type": "markdown",
   "id": "cfc95ed0-f665-4e9a-a878-1e00dc616f5f",
   "metadata": {},
   "source": [
    "## 9 Evaluate/Validate Algorithm/model - Using K-Fold Cross-Validation"
   ]
  },
  {
   "cell_type": "code",
   "execution_count": 55,
   "id": "910e973d-7b47-4f35-89ef-0b4643194651",
   "metadata": {},
   "outputs": [
    {
     "name": "stdout",
     "output_type": "stream",
     "text": [
      "-5.064464344408433\n"
     ]
    }
   ],
   "source": [
    "# Evaluate the algorithm \n",
    "# specify the K -size\n",
    "num_folds = 10\n",
    "\n",
    "# Fix the random seed\n",
    "# Must use the same seed value so that the same subsets can be obtained for each time the process is repeated\n",
    "seed=7\n",
    "\n",
    "#split the whole data set into folds\n",
    "kfold = KFold(n_splits=num_folds,shuffle=True,random_state=seed)\n",
    "\n",
    "#For Linear Regression, we can use MSE (mean squared error)\n",
    "# to evaluate the model/algorithm \n",
    "scoring = 'neg_mean_squared_error'\n",
    "\n",
    "#Train the model and run K-fold cross-validation/evaluate the model\n",
    "results =cross_val_score(model, X,Y, cv= kfold, scoring=scoring)\n",
    "#print out the evaluation results \n",
    "# Result: the average of all results obtained from the k-fold cross-validation\n",
    "print(results.mean())"
   ]
  },
  {
   "cell_type": "code",
   "execution_count": 57,
   "id": "e031e76d-8eb3-44a3-a14a-c221d130ac7e",
   "metadata": {},
   "outputs": [
    {
     "name": "stdout",
     "output_type": "stream",
     "text": [
      "-8.906681353481806\n"
     ]
    }
   ],
   "source": [
    "# Evaluate the algorithm \n",
    "# specify the K -size\n",
    "num_folds = 10\n",
    "\n",
    "# Fix the random seed\n",
    "# Must use the same seed value so that the same subsets can be obtained for each time the process is repeated\n",
    "seed=7\n",
    "\n",
    "#split the whole data set into folds\n",
    "kfold = KFold(n_splits=num_folds,shuffle=True,random_state=seed)\n",
    "\n",
    "#For Linear Regression, we can use MSE (mean squared error)\n",
    "# to evaluate the model/algorithm \n",
    "scoring = 'neg_mean_squared_error'\n",
    "\n",
    "#Train the model and run K-fold cross-validation/evaluate the model\n",
    "results =cross_val_score(model_tree, X,Y, cv= kfold, scoring=scoring)\n",
    "#print out the evaluation results \n",
    "# Result: the average of all results obtained from the k-fold cross-validation\n",
    "print(results.mean())"
   ]
  },
  {
   "cell_type": "code",
   "execution_count": null,
   "id": "e287275e-2f58-4867-8d69-86ac76bac116",
   "metadata": {},
   "outputs": [],
   "source": []
  }
 ],
 "metadata": {
  "kernelspec": {
   "display_name": "Python 3 (ipykernel)",
   "language": "python",
   "name": "python3"
  },
  "language_info": {
   "codemirror_mode": {
    "name": "ipython",
    "version": 3
   },
   "file_extension": ".py",
   "mimetype": "text/x-python",
   "name": "python",
   "nbconvert_exporter": "python",
   "pygments_lexer": "ipython3",
   "version": "3.12.4"
  }
 },
 "nbformat": 4,
 "nbformat_minor": 5
}
